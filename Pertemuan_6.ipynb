{
  "nbformat": 4,
  "nbformat_minor": 0,
  "metadata": {
    "colab": {
      "provenance": []
    },
    "kernelspec": {
      "name": "python3",
      "display_name": "Python 3"
    },
    "language_info": {
      "name": "python"
    }
  },
  "cells": [
    {
      "cell_type": "markdown",
      "source": [
        "### **Pertemuan 6**\n",
        "\n",
        "Riza Anwar Fadil - 1227050116\n",
        "\n",
        "\n",
        "Menambahkan Efek Fade In/Out dan Manipulasi Kecepatan\n",
        "Playback Audio"
      ],
      "metadata": {
        "id": "4uOJIt191-X4"
      }
    },
    {
      "cell_type": "code",
      "execution_count": null,
      "metadata": {
        "id": "A4eLeIRR1j8A",
        "colab": {
          "base_uri": "https://localhost:8080/"
        },
        "outputId": "5b3fbac8-3690-4c2b-d07f-0d05033b71ee"
      },
      "outputs": [
        {
          "output_type": "execute_result",
          "data": {
            "text/plain": [
              "<_io.BufferedRandom name='audio_fade.mp3'>"
            ]
          },
          "metadata": {},
          "execution_count": 2
        }
      ],
      "source": [
        "from\tpydub\timport\tAudioSegment\n",
        "#\tMembaca\tfile\taudio\t(pastikan\tffmpeg\tterinstal)\n",
        "audio\t=\tAudioSegment.from_file(\"sample-6s.mp3\",\tformat=\"mp3\")\n",
        "#\tMenambahkan\tfade\tin\t2\tdetik\tdan\tfade\tout\t3\tdetik\n",
        "faded_audio\t=\taudio.fade_in(2000).fade_out(3000)\n",
        "#\tMenyimpan\thasil\n",
        "faded_audio.export(\"audio_fade.mp3\",\tformat=\"mp3\")"
      ]
    },
    {
      "cell_type": "markdown",
      "source": [
        "Manipulasi Kecepatan Playback"
      ],
      "metadata": {
        "id": "XRnlZ6k94Y0G"
      }
    },
    {
      "cell_type": "code",
      "source": [
        "import\tlibrosa\n",
        "import\tsoundfile\tas\tsf\n",
        "#\tMembaca\taudio\n",
        "y,\tsr\t=\tlibrosa.load(\"sample-6s.mp3\")\n",
        "#\tMengubah\tkecepatan\t(misalnya:\t1.5\tkali\tlebih\tcepat)\n",
        "y_fast\t=\tlibrosa.effects.time_stretch(y,\trate=1.5)\n",
        "#\tMenyimpan\thasil\taudio\n",
        "sf.write(\"audio_fast.wav\",\ty_fast,\tsr)\n"
      ],
      "metadata": {
        "id": "1gUxlc5w2Qh_"
      },
      "execution_count": null,
      "outputs": []
    },
    {
      "cell_type": "markdown",
      "source": [
        "Diskusi\n",
        "1. Apa fungsi dari efek fade in dan fade out dalam produksi audio?\n",
        "2. Apa dampak dari manipulasi kecepatan terhadap kualitas suara?\n",
        "3. Kapan sebaiknya menggunakan time-stretch dibanding pitch-shift?\n",
        "4. Apakah hasil audio setelah dipercepat akan berubah durasinya? Jelaskan.\n",
        "5. Apa perbedaan hasil efek fade antara format MP3 dan WAV?"
      ],
      "metadata": {
        "id": "dd3_v2O739aX"
      }
    },
    {
      "cell_type": "markdown",
      "source": [
        "### 1. Apa fungsi dari efek fade in dan fade out dalam produksi audio?\n",
        "Efek fade in berfungsi untuk secara bertahap meningkatkan volume suara dari diam hingga volume normal di awal audio. Sebaliknya, fade out digunakan untuk menurunkan volume secara perlahan hingga diam di akhir audio. Fungsi utama dari efek ini adalah untuk membuat transisi audio menjadi lebih halus, menghindari suara yang tiba-tiba muncul atau menghilang, serta memberikan kesan profesional dan nyaman didengar.\n",
        "\n",
        "---\n",
        "\n",
        "### 2. Apa dampak dari manipulasi kecepatan terhadap kualitas suara?\n",
        "Manipulasi kecepatan (speed change) dapat berdampak pada pitch dan kualitas suara. Jika kecepatan ditingkatkan:\n",
        "- Suara akan menjadi lebih cepat dan bernada tinggi (seperti chipmunk).\n",
        "- Sebaliknya, jika diperlambat, suara menjadi lebih lambat dan bernada rendah.\n",
        "- Manipulasi ekstrem dapat menyebabkan distorsi atau artefak digital yang membuat suara terdengar tidak natural atau rusak.\n",
        "\n",
        "---\n",
        "\n",
        "### 3. Kapan sebaiknya menggunakan time-stretch dibanding pitch-shift?\n",
        "Gunakan time-stretch ketika ingin mengubah durasi audio tanpa mengubah pitch (nada). Misalnya, memperlambat atau mempercepat rekaman suara tetapi tetap mempertahankan ketinggian nada aslinya.\n",
        "\n",
        "Gunakan pitch-shift jika ingin mengubah nada (tinggi/rendah suara) tanpa mengubah durasi, contohnya saat ingin menaikkan/menurunkan kunci lagu.\n",
        "\n",
        "---\n",
        "\n",
        "### 4. Apakah hasil audio setelah dipercepat akan berubah durasinya? Jelaskan.\n",
        "Ya, durasinya akan berubah. Jika audio dipercepat, maka durasi akan menjadi lebih pendek karena audio diputar dalam waktu yang lebih singkat. Begitu juga sebaliknya, jika diperlambat maka durasinya menjadi lebih panjang. Perubahan ini terjadi karena kecepatan pemutaran langsung mempengaruhi berapa lama file audio tersebut berlangsung.\n",
        "\n",
        "---\n",
        "\n",
        "### 5. Apa perbedaan hasil efek fade antara format MP3 dan WAV?\n",
        "Secara umum, efek fade (baik fade in maupun fade out) bekerja serupa secara prinsip pada kedua format. Namun:\n",
        "\n",
        "- WAV adalah format lossless, sehingga hasil fade lebih presisi dan berkualitas tinggi, tanpa kehilangan detail suara.\n",
        "- MP3 adalah format lossy, sehingga ada kompresi data yang dapat menyebabkan artefak kecil saat efek fade diterapkan, terutama jika bitrate rendah.\n",
        "\n",
        "Jadi, hasil fade pada WAV biasanya lebih bersih dan detail dibandingkan MP3.\n"
      ],
      "metadata": {
        "id": "Zmdt1xde4HPN"
      }
    },
    {
      "cell_type": "markdown",
      "source": [
        "**TUGAS**\n",
        "\n",
        "Menambahkan efek fade in/out pada 2 file audio dengan durasi berbeda."
      ],
      "metadata": {
        "id": "XrhDqWqwsJmN"
      }
    },
    {
      "cell_type": "code",
      "source": [
        "from pydub import AudioSegment\n",
        "\n",
        "audio1 = AudioSegment.from_file(\"sample-6s.mp3\")\n",
        "audio2 = AudioSegment.from_file(\"file_example_MP3_1MG.mp3\")\n",
        "\n",
        "faded1 = audio1.fade_in(1000).fade_out(2000)\n",
        "faded2 = audio2.fade_in(2000).fade_out(3000)\n",
        "\n",
        "faded1.export(\"audio1_fade.mp3\", format=\"mp3\")\n",
        "faded2.export(\"audio2_fade.wav\", format=\"wav\")\n"
      ],
      "metadata": {
        "colab": {
          "base_uri": "https://localhost:8080/"
        },
        "id": "_nrEcezJsgDq",
        "outputId": "8f56c739-74ac-4c71-be91-2ba44796ca1f"
      },
      "execution_count": null,
      "outputs": [
        {
          "output_type": "execute_result",
          "data": {
            "text/plain": [
              "<_io.BufferedRandom name='audio2_fade.wav'>"
            ]
          },
          "metadata": {},
          "execution_count": 5
        }
      ]
    },
    {
      "cell_type": "markdown",
      "source": [
        "Ubah kecepatan playback jadi 0.75x dan 1.5x, lalu bandingkan."
      ],
      "metadata": {
        "id": "En4Ef64Ys5Mg"
      }
    },
    {
      "cell_type": "code",
      "source": [
        "from pydub import AudioSegment\n",
        "import os\n",
        "\n",
        "# Fungsi untuk mengubah kecepatan playback\n",
        "def change_speed(sound, speed=1.0):\n",
        "    # Ubah frame rate untuk mengatur kecepatan\n",
        "    sound_with_altered_frame_rate = sound._spawn(sound.raw_data, overrides={\n",
        "         \"frame_rate\": int(sound.frame_rate * speed)\n",
        "      })\n",
        "    return sound_with_altered_frame_rate.set_frame_rate(sound.frame_rate)\n",
        "\n",
        "# Baca file audio asli\n",
        "audio = AudioSegment.from_file(\"file_example_MP3_1MG.mp3\", format=\"mp3\")\n",
        "\n",
        "# Kecepatan 0.75x (lebih lambat)\n",
        "slower_audio = change_speed(audio, 0.75)\n",
        "slower_audio.export(\"file_example_MP3_1MG-slow.mp3\", format=\"mp3\")\n",
        "\n",
        "# Kecepatan 1.5x (lebih cepat)\n",
        "faster_audio = change_speed(audio, 1.5)\n",
        "faster_audio.export(\"file_example_MP3_1MG-fast.mp3\", format=\"mp3\")\n",
        "\n",
        "print(\"Berhasil menyimpan file dengan kecepatan berbeda: slow dan fast.\")\n"
      ],
      "metadata": {
        "id": "5tUHbRDRs8WC",
        "colab": {
          "base_uri": "https://localhost:8080/"
        },
        "outputId": "4f3ed2e5-577d-48aa-a79d-d14278e77e1f"
      },
      "execution_count": null,
      "outputs": [
        {
          "output_type": "stream",
          "name": "stdout",
          "text": [
            "Berhasil menyimpan file dengan kecepatan berbeda: slow dan fast.\n"
          ]
        }
      ]
    },
    {
      "cell_type": "markdown",
      "source": [
        "Simulasikan fade in (pembukaan podcast) dan fade out (penutup)."
      ],
      "metadata": {
        "id": "eqiNWUdKtEqs"
      }
    },
    {
      "cell_type": "code",
      "source": [
        "podcast = AudioSegment.from_file(\"sample-6s.mp3\")\n",
        "intro_fade = podcast.fade_in(3000)\n",
        "outro_fade = podcast.fade_out(3000)\n",
        "\n",
        "intro_fade.export(\"podcast_fadein.mp3\", format=\"mp3\")\n",
        "outro_fade.export(\"podcast_fadeout.mp3\", format=\"mp3\")\n"
      ],
      "metadata": {
        "colab": {
          "base_uri": "https://localhost:8080/"
        },
        "id": "d9hu_PWitFRT",
        "outputId": "7ba8cac5-6fb4-4a6f-d468-f9842b64b02e"
      },
      "execution_count": null,
      "outputs": [
        {
          "output_type": "execute_result",
          "data": {
            "text/plain": [
              "<_io.BufferedRandom name='podcast_fadeout.mp3'>"
            ]
          },
          "metadata": {},
          "execution_count": 8
        }
      ]
    },
    {
      "cell_type": "markdown",
      "source": [
        " Gabungkan efek fade dan tempo. Analisis:"
      ],
      "metadata": {
        "id": "ogpGqwGutRd7"
      }
    },
    {
      "cell_type": "code",
      "source": [
        "import librosa\n",
        "import soundfile as sf\n",
        "\n",
        "# Load audio\n",
        "y, sr = librosa.load(\"sample-6s.mp3\")\n",
        "\n",
        "# Ubah ke STFT\n",
        "D = librosa.stft(y)\n",
        "\n",
        "# Lakukan time-stretch pada STFT\n",
        "D_stretch = librosa.phase_vocoder(D, rate=1.2, hop_length=512)\n",
        "\n",
        "# Kembali ke bentuk audio\n",
        "y_stretched = librosa.istft(D_stretch, hop_length=512)\n",
        "\n",
        "# Simpan hasil\n",
        "sf.write(\"audio_fade_tempo.wav\", y_stretched, sr)\n"
      ],
      "metadata": {
        "id": "uuO2HTrrtLYN"
      },
      "execution_count": null,
      "outputs": []
    },
    {
      "cell_type": "markdown",
      "source": [
        "Analisis: Gabungan efek ini memberikan hasil audio dengan transisi halus dan tempo dinamis. Cocok untuk kebutuhan profesional seperti iklan atau intro video."
      ],
      "metadata": {
        "id": "kBP3cftatbbg"
      }
    },
    {
      "cell_type": "markdown",
      "source": [
        "Explore Streamlit sebagai UI playback audio"
      ],
      "metadata": {
        "id": "V-pFVjLUtYIG"
      }
    },
    {
      "cell_type": "code",
      "source": [
        "!pip install streamlit\n"
      ],
      "metadata": {
        "id": "qWgLWgujv2nX",
        "outputId": "b4969abe-b8fe-4cfc-d6de-2656574f623b",
        "colab": {
          "base_uri": "https://localhost:8080/"
        }
      },
      "execution_count": null,
      "outputs": [
        {
          "output_type": "stream",
          "name": "stdout",
          "text": [
            "Collecting streamlit\n",
            "  Downloading streamlit-1.44.1-py3-none-any.whl.metadata (8.9 kB)\n",
            "Requirement already satisfied: altair<6,>=4.0 in /usr/local/lib/python3.11/dist-packages (from streamlit) (5.5.0)\n",
            "Requirement already satisfied: blinker<2,>=1.0.0 in /usr/local/lib/python3.11/dist-packages (from streamlit) (1.9.0)\n",
            "Requirement already satisfied: cachetools<6,>=4.0 in /usr/local/lib/python3.11/dist-packages (from streamlit) (5.5.2)\n",
            "Requirement already satisfied: click<9,>=7.0 in /usr/local/lib/python3.11/dist-packages (from streamlit) (8.1.8)\n",
            "Requirement already satisfied: numpy<3,>=1.23 in /usr/local/lib/python3.11/dist-packages (from streamlit) (2.0.2)\n",
            "Requirement already satisfied: packaging<25,>=20 in /usr/local/lib/python3.11/dist-packages (from streamlit) (24.2)\n",
            "Requirement already satisfied: pandas<3,>=1.4.0 in /usr/local/lib/python3.11/dist-packages (from streamlit) (2.2.2)\n",
            "Requirement already satisfied: pillow<12,>=7.1.0 in /usr/local/lib/python3.11/dist-packages (from streamlit) (11.1.0)\n",
            "Requirement already satisfied: protobuf<6,>=3.20 in /usr/local/lib/python3.11/dist-packages (from streamlit) (5.29.4)\n",
            "Requirement already satisfied: pyarrow>=7.0 in /usr/local/lib/python3.11/dist-packages (from streamlit) (18.1.0)\n",
            "Requirement already satisfied: requests<3,>=2.27 in /usr/local/lib/python3.11/dist-packages (from streamlit) (2.32.3)\n",
            "Requirement already satisfied: tenacity<10,>=8.1.0 in /usr/local/lib/python3.11/dist-packages (from streamlit) (9.1.2)\n",
            "Requirement already satisfied: toml<2,>=0.10.1 in /usr/local/lib/python3.11/dist-packages (from streamlit) (0.10.2)\n",
            "Requirement already satisfied: typing-extensions<5,>=4.4.0 in /usr/local/lib/python3.11/dist-packages (from streamlit) (4.13.1)\n",
            "Collecting watchdog<7,>=2.1.5 (from streamlit)\n",
            "  Downloading watchdog-6.0.0-py3-none-manylinux2014_x86_64.whl.metadata (44 kB)\n",
            "\u001b[2K     \u001b[90m━━━━━━━━━━━━━━━━━━━━━━━━━━━━━━━━━━━━━━━━\u001b[0m \u001b[32m44.3/44.3 kB\u001b[0m \u001b[31m2.6 MB/s\u001b[0m eta \u001b[36m0:00:00\u001b[0m\n",
            "\u001b[?25hRequirement already satisfied: gitpython!=3.1.19,<4,>=3.0.7 in /usr/local/lib/python3.11/dist-packages (from streamlit) (3.1.44)\n",
            "Collecting pydeck<1,>=0.8.0b4 (from streamlit)\n",
            "  Downloading pydeck-0.9.1-py2.py3-none-any.whl.metadata (4.1 kB)\n",
            "Requirement already satisfied: tornado<7,>=6.0.3 in /usr/local/lib/python3.11/dist-packages (from streamlit) (6.4.2)\n",
            "Requirement already satisfied: jinja2 in /usr/local/lib/python3.11/dist-packages (from altair<6,>=4.0->streamlit) (3.1.6)\n",
            "Requirement already satisfied: jsonschema>=3.0 in /usr/local/lib/python3.11/dist-packages (from altair<6,>=4.0->streamlit) (4.23.0)\n",
            "Requirement already satisfied: narwhals>=1.14.2 in /usr/local/lib/python3.11/dist-packages (from altair<6,>=4.0->streamlit) (1.33.0)\n",
            "Requirement already satisfied: gitdb<5,>=4.0.1 in /usr/local/lib/python3.11/dist-packages (from gitpython!=3.1.19,<4,>=3.0.7->streamlit) (4.0.12)\n",
            "Requirement already satisfied: python-dateutil>=2.8.2 in /usr/local/lib/python3.11/dist-packages (from pandas<3,>=1.4.0->streamlit) (2.8.2)\n",
            "Requirement already satisfied: pytz>=2020.1 in /usr/local/lib/python3.11/dist-packages (from pandas<3,>=1.4.0->streamlit) (2025.2)\n",
            "Requirement already satisfied: tzdata>=2022.7 in /usr/local/lib/python3.11/dist-packages (from pandas<3,>=1.4.0->streamlit) (2025.2)\n",
            "Requirement already satisfied: charset-normalizer<4,>=2 in /usr/local/lib/python3.11/dist-packages (from requests<3,>=2.27->streamlit) (3.4.1)\n",
            "Requirement already satisfied: idna<4,>=2.5 in /usr/local/lib/python3.11/dist-packages (from requests<3,>=2.27->streamlit) (3.10)\n",
            "Requirement already satisfied: urllib3<3,>=1.21.1 in /usr/local/lib/python3.11/dist-packages (from requests<3,>=2.27->streamlit) (2.3.0)\n",
            "Requirement already satisfied: certifi>=2017.4.17 in /usr/local/lib/python3.11/dist-packages (from requests<3,>=2.27->streamlit) (2025.1.31)\n",
            "Requirement already satisfied: smmap<6,>=3.0.1 in /usr/local/lib/python3.11/dist-packages (from gitdb<5,>=4.0.1->gitpython!=3.1.19,<4,>=3.0.7->streamlit) (5.0.2)\n",
            "Requirement already satisfied: MarkupSafe>=2.0 in /usr/local/lib/python3.11/dist-packages (from jinja2->altair<6,>=4.0->streamlit) (3.0.2)\n",
            "Requirement already satisfied: attrs>=22.2.0 in /usr/local/lib/python3.11/dist-packages (from jsonschema>=3.0->altair<6,>=4.0->streamlit) (25.3.0)\n",
            "Requirement already satisfied: jsonschema-specifications>=2023.03.6 in /usr/local/lib/python3.11/dist-packages (from jsonschema>=3.0->altair<6,>=4.0->streamlit) (2024.10.1)\n",
            "Requirement already satisfied: referencing>=0.28.4 in /usr/local/lib/python3.11/dist-packages (from jsonschema>=3.0->altair<6,>=4.0->streamlit) (0.36.2)\n",
            "Requirement already satisfied: rpds-py>=0.7.1 in /usr/local/lib/python3.11/dist-packages (from jsonschema>=3.0->altair<6,>=4.0->streamlit) (0.24.0)\n",
            "Requirement already satisfied: six>=1.5 in /usr/local/lib/python3.11/dist-packages (from python-dateutil>=2.8.2->pandas<3,>=1.4.0->streamlit) (1.17.0)\n",
            "Downloading streamlit-1.44.1-py3-none-any.whl (9.8 MB)\n",
            "\u001b[2K   \u001b[90m━━━━━━━━━━━━━━━━━━━━━━━━━━━━━━━━━━━━━━━━\u001b[0m \u001b[32m9.8/9.8 MB\u001b[0m \u001b[31m50.4 MB/s\u001b[0m eta \u001b[36m0:00:00\u001b[0m\n",
            "\u001b[?25hDownloading pydeck-0.9.1-py2.py3-none-any.whl (6.9 MB)\n",
            "\u001b[2K   \u001b[90m━━━━━━━━━━━━━━━━━━━━━━━━━━━━━━━━━━━━━━━━\u001b[0m \u001b[32m6.9/6.9 MB\u001b[0m \u001b[31m35.9 MB/s\u001b[0m eta \u001b[36m0:00:00\u001b[0m\n",
            "\u001b[?25hDownloading watchdog-6.0.0-py3-none-manylinux2014_x86_64.whl (79 kB)\n",
            "\u001b[2K   \u001b[90m━━━━━━━━━━━━━━━━━━━━━━━━━━━━━━━━━━━━━━━━\u001b[0m \u001b[32m79.1/79.1 kB\u001b[0m \u001b[31m3.6 MB/s\u001b[0m eta \u001b[36m0:00:00\u001b[0m\n",
            "\u001b[?25hInstalling collected packages: watchdog, pydeck, streamlit\n",
            "Successfully installed pydeck-0.9.1 streamlit-1.44.1 watchdog-6.0.0\n"
          ]
        }
      ]
    },
    {
      "cell_type": "code",
      "source": [
        "# streamlit_audio_app.py\n",
        "import streamlit as st\n",
        "\n",
        "st.title(\"Audio Player with Fade/Tempo Effect\")\n",
        "\n",
        "audio_file = open('/audio_example.wav', 'rb')\n",
        "audio_bytes = audio_file.read()\n",
        "\n",
        "st.audio(audio_bytes, format='audio/wav')\n"
      ],
      "metadata": {
        "colab": {
          "base_uri": "https://localhost:8080/"
        },
        "id": "nIjhIMPotdaO",
        "outputId": "188559ae-32b0-47f3-dad9-9da8f6cdd1e9"
      },
      "execution_count": null,
      "outputs": [
        {
          "output_type": "stream",
          "name": "stderr",
          "text": [
            "2025-04-09 08:51:56.076 WARNING streamlit.runtime.scriptrunner_utils.script_run_context: Thread 'MainThread': missing ScriptRunContext! This warning can be ignored when running in bare mode.\n",
            "2025-04-09 08:51:56.339 \n",
            "  \u001b[33m\u001b[1mWarning:\u001b[0m to view this Streamlit app on a browser, run it with the following\n",
            "  command:\n",
            "\n",
            "    streamlit run /usr/local/lib/python3.11/dist-packages/colab_kernel_launcher.py [ARGUMENTS]\n",
            "2025-04-09 08:51:56.343 Thread 'MainThread': missing ScriptRunContext! This warning can be ignored when running in bare mode.\n",
            "2025-04-09 08:51:56.358 Thread 'MainThread': missing ScriptRunContext! This warning can be ignored when running in bare mode.\n",
            "2025-04-09 08:51:56.365 Thread 'MainThread': missing ScriptRunContext! This warning can be ignored when running in bare mode.\n",
            "2025-04-09 08:51:56.366 Thread 'MainThread': missing ScriptRunContext! This warning can be ignored when running in bare mode.\n"
          ]
        },
        {
          "output_type": "execute_result",
          "data": {
            "text/plain": [
              "DeltaGenerator()"
            ]
          },
          "metadata": {},
          "execution_count": 19
        }
      ]
    },
    {
      "cell_type": "markdown",
      "source": [
        "Laporan Eksperimen dan Visualisasi Waveform"
      ],
      "metadata": {
        "id": "xcSqwm_MthaF"
      }
    },
    {
      "cell_type": "code",
      "source": [
        "import librosa.display\n",
        "import matplotlib.pyplot as plt\n",
        "\n",
        "y, sr = librosa.load(\"/audio_example.wav\")\n",
        "plt.figure(figsize=(10, 4))\n",
        "librosa.display.waveshow(y, sr=sr)\n",
        "plt.title(\"Waveform Hasil Gabungan Fade + Tempo\")\n",
        "plt.xlabel(\"Waktu (s)\")\n",
        "plt.ylabel(\"Amplitudo\")\n",
        "plt.tight_layout()\n",
        "plt.savefig(\"waveform_output.png\")\n",
        "plt.show()\n"
      ],
      "metadata": {
        "colab": {
          "base_uri": "https://localhost:8080/",
          "height": 407
        },
        "id": "65Ve-qcJtljV",
        "outputId": "73864dc3-3027-4dfc-ff96-7b7b565ddae9"
      },
      "execution_count": null,
      "outputs": [
        {
          "output_type": "display_data",
          "data": {
            "text/plain": [
              "<Figure size 1000x400 with 1 Axes>"
            ],
            "image/png": "[encoded data removed]"
          },
          "metadata": {}
        }
      ]
    }
  ]
}